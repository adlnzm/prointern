{
 "cells": [
  {
   "cell_type": "code",
   "execution_count": 1,
   "id": "46a245cd-a552-4e1d-8316-d006d42fe303",
   "metadata": {},
   "outputs": [],
   "source": [
    "import pandas as pd\n",
    "import seaborn as sns\n",
    "import numpy as np\n",
    "import matplotlib.pyplot as plt"
   ]
  },
  {
   "cell_type": "code",
   "execution_count": 2,
   "id": "5a811d75-2147-4598-9264-08444979d419",
   "metadata": {},
   "outputs": [],
   "source": [
    "df_return = pd.read_csv(\"/Users/adlnzmnzr/Downloads/ecommerce_returns_synthetic_data.csv\")"
   ]
  },
  {
   "cell_type": "code",
   "execution_count": 3,
   "id": "839b402a-6e27-4d33-8808-83b275caf71a",
   "metadata": {},
   "outputs": [
    {
     "data": {
      "text/html": [
       "<div>\n",
       "<style scoped>\n",
       "    .dataframe tbody tr th:only-of-type {\n",
       "        vertical-align: middle;\n",
       "    }\n",
       "\n",
       "    .dataframe tbody tr th {\n",
       "        vertical-align: top;\n",
       "    }\n",
       "\n",
       "    .dataframe thead th {\n",
       "        text-align: right;\n",
       "    }\n",
       "</style>\n",
       "<table border=\"1\" class=\"dataframe\">\n",
       "  <thead>\n",
       "    <tr style=\"text-align: right;\">\n",
       "      <th></th>\n",
       "      <th>Order_ID</th>\n",
       "      <th>Product_ID</th>\n",
       "      <th>User_ID</th>\n",
       "      <th>Order_Date</th>\n",
       "      <th>Return_Date</th>\n",
       "      <th>Product_Category</th>\n",
       "      <th>Product_Price</th>\n",
       "      <th>Order_Quantity</th>\n",
       "      <th>Return_Reason</th>\n",
       "      <th>Return_Status</th>\n",
       "      <th>Days_to_Return</th>\n",
       "      <th>User_Age</th>\n",
       "      <th>User_Gender</th>\n",
       "      <th>User_Location</th>\n",
       "      <th>Payment_Method</th>\n",
       "      <th>Shipping_Method</th>\n",
       "      <th>Discount_Applied</th>\n",
       "    </tr>\n",
       "  </thead>\n",
       "  <tbody>\n",
       "    <tr>\n",
       "      <th>0</th>\n",
       "      <td>ORD00000000</td>\n",
       "      <td>PROD00000000</td>\n",
       "      <td>USER00000000</td>\n",
       "      <td>2023-08-05</td>\n",
       "      <td>2024-08-26</td>\n",
       "      <td>Clothing</td>\n",
       "      <td>411.59</td>\n",
       "      <td>3</td>\n",
       "      <td>Changed mind</td>\n",
       "      <td>Returned</td>\n",
       "      <td>387.0</td>\n",
       "      <td>58</td>\n",
       "      <td>Male</td>\n",
       "      <td>City54</td>\n",
       "      <td>Debit Card</td>\n",
       "      <td>Next-Day</td>\n",
       "      <td>45.27</td>\n",
       "    </tr>\n",
       "    <tr>\n",
       "      <th>1</th>\n",
       "      <td>ORD00000001</td>\n",
       "      <td>PROD00000001</td>\n",
       "      <td>USER00000001</td>\n",
       "      <td>2023-10-09</td>\n",
       "      <td>2023-11-09</td>\n",
       "      <td>Books</td>\n",
       "      <td>288.88</td>\n",
       "      <td>3</td>\n",
       "      <td>Wrong item</td>\n",
       "      <td>Returned</td>\n",
       "      <td>31.0</td>\n",
       "      <td>68</td>\n",
       "      <td>Female</td>\n",
       "      <td>City85</td>\n",
       "      <td>Credit Card</td>\n",
       "      <td>Express</td>\n",
       "      <td>47.79</td>\n",
       "    </tr>\n",
       "    <tr>\n",
       "      <th>2</th>\n",
       "      <td>ORD00000002</td>\n",
       "      <td>PROD00000002</td>\n",
       "      <td>USER00000002</td>\n",
       "      <td>2023-05-06</td>\n",
       "      <td>NaN</td>\n",
       "      <td>Toys</td>\n",
       "      <td>390.03</td>\n",
       "      <td>5</td>\n",
       "      <td>NaN</td>\n",
       "      <td>Not Returned</td>\n",
       "      <td>NaN</td>\n",
       "      <td>22</td>\n",
       "      <td>Female</td>\n",
       "      <td>City30</td>\n",
       "      <td>Debit Card</td>\n",
       "      <td>Next-Day</td>\n",
       "      <td>26.64</td>\n",
       "    </tr>\n",
       "    <tr>\n",
       "      <th>3</th>\n",
       "      <td>ORD00000003</td>\n",
       "      <td>PROD00000003</td>\n",
       "      <td>USER00000003</td>\n",
       "      <td>2024-08-29</td>\n",
       "      <td>NaN</td>\n",
       "      <td>Toys</td>\n",
       "      <td>401.09</td>\n",
       "      <td>3</td>\n",
       "      <td>NaN</td>\n",
       "      <td>Not Returned</td>\n",
       "      <td>NaN</td>\n",
       "      <td>40</td>\n",
       "      <td>Male</td>\n",
       "      <td>City95</td>\n",
       "      <td>PayPal</td>\n",
       "      <td>Next-Day</td>\n",
       "      <td>15.37</td>\n",
       "    </tr>\n",
       "    <tr>\n",
       "      <th>4</th>\n",
       "      <td>ORD00000004</td>\n",
       "      <td>PROD00000004</td>\n",
       "      <td>USER00000004</td>\n",
       "      <td>2023-01-16</td>\n",
       "      <td>NaN</td>\n",
       "      <td>Books</td>\n",
       "      <td>110.09</td>\n",
       "      <td>4</td>\n",
       "      <td>NaN</td>\n",
       "      <td>Not Returned</td>\n",
       "      <td>NaN</td>\n",
       "      <td>34</td>\n",
       "      <td>Female</td>\n",
       "      <td>City80</td>\n",
       "      <td>Gift Card</td>\n",
       "      <td>Standard</td>\n",
       "      <td>16.37</td>\n",
       "    </tr>\n",
       "  </tbody>\n",
       "</table>\n",
       "</div>"
      ],
      "text/plain": [
       "      Order_ID    Product_ID       User_ID  Order_Date Return_Date  \\\n",
       "0  ORD00000000  PROD00000000  USER00000000  2023-08-05  2024-08-26   \n",
       "1  ORD00000001  PROD00000001  USER00000001  2023-10-09  2023-11-09   \n",
       "2  ORD00000002  PROD00000002  USER00000002  2023-05-06         NaN   \n",
       "3  ORD00000003  PROD00000003  USER00000003  2024-08-29         NaN   \n",
       "4  ORD00000004  PROD00000004  USER00000004  2023-01-16         NaN   \n",
       "\n",
       "  Product_Category  Product_Price  Order_Quantity Return_Reason Return_Status  \\\n",
       "0         Clothing         411.59               3  Changed mind      Returned   \n",
       "1            Books         288.88               3    Wrong item      Returned   \n",
       "2             Toys         390.03               5           NaN  Not Returned   \n",
       "3             Toys         401.09               3           NaN  Not Returned   \n",
       "4            Books         110.09               4           NaN  Not Returned   \n",
       "\n",
       "   Days_to_Return  User_Age User_Gender User_Location Payment_Method  \\\n",
       "0           387.0        58        Male        City54     Debit Card   \n",
       "1            31.0        68      Female        City85    Credit Card   \n",
       "2             NaN        22      Female        City30     Debit Card   \n",
       "3             NaN        40        Male        City95         PayPal   \n",
       "4             NaN        34      Female        City80      Gift Card   \n",
       "\n",
       "  Shipping_Method  Discount_Applied  \n",
       "0        Next-Day             45.27  \n",
       "1         Express             47.79  \n",
       "2        Next-Day             26.64  \n",
       "3        Next-Day             15.37  \n",
       "4        Standard             16.37  "
      ]
     },
     "execution_count": 3,
     "metadata": {},
     "output_type": "execute_result"
    }
   ],
   "source": [
    "df_return.head(5)"
   ]
  },
  {
   "cell_type": "code",
   "execution_count": 4,
   "id": "3b6ac7bc-5843-4ce7-ab76-60c57780c5c2",
   "metadata": {},
   "outputs": [
    {
     "name": "stdout",
     "output_type": "stream",
     "text": [
      "<class 'pandas.core.frame.DataFrame'>\n",
      "RangeIndex: 10000 entries, 0 to 9999\n",
      "Data columns (total 17 columns):\n",
      " #   Column            Non-Null Count  Dtype  \n",
      "---  ------            --------------  -----  \n",
      " 0   Order_ID          10000 non-null  object \n",
      " 1   Product_ID        10000 non-null  object \n",
      " 2   User_ID           10000 non-null  object \n",
      " 3   Order_Date        10000 non-null  object \n",
      " 4   Return_Date       5052 non-null   object \n",
      " 5   Product_Category  10000 non-null  object \n",
      " 6   Product_Price     10000 non-null  float64\n",
      " 7   Order_Quantity    10000 non-null  int64  \n",
      " 8   Return_Reason     5052 non-null   object \n",
      " 9   Return_Status     10000 non-null  object \n",
      " 10  Days_to_Return    5052 non-null   float64\n",
      " 11  User_Age          10000 non-null  int64  \n",
      " 12  User_Gender       10000 non-null  object \n",
      " 13  User_Location     10000 non-null  object \n",
      " 14  Payment_Method    10000 non-null  object \n",
      " 15  Shipping_Method   10000 non-null  object \n",
      " 16  Discount_Applied  10000 non-null  float64\n",
      "dtypes: float64(3), int64(2), object(12)\n",
      "memory usage: 1.3+ MB\n"
     ]
    }
   ],
   "source": [
    "df_return.info()"
   ]
  },
  {
   "cell_type": "code",
   "execution_count": 5,
   "id": "2271359e-73c3-48c1-9948-aeb4f1b8d118",
   "metadata": {},
   "outputs": [
    {
     "data": {
      "text/html": [
       "<div>\n",
       "<style scoped>\n",
       "    .dataframe tbody tr th:only-of-type {\n",
       "        vertical-align: middle;\n",
       "    }\n",
       "\n",
       "    .dataframe tbody tr th {\n",
       "        vertical-align: top;\n",
       "    }\n",
       "\n",
       "    .dataframe thead th {\n",
       "        text-align: right;\n",
       "    }\n",
       "</style>\n",
       "<table border=\"1\" class=\"dataframe\">\n",
       "  <thead>\n",
       "    <tr style=\"text-align: right;\">\n",
       "      <th></th>\n",
       "      <th>Product_Price</th>\n",
       "      <th>Order_Quantity</th>\n",
       "      <th>Days_to_Return</th>\n",
       "      <th>User_Age</th>\n",
       "      <th>Discount_Applied</th>\n",
       "    </tr>\n",
       "  </thead>\n",
       "  <tbody>\n",
       "    <tr>\n",
       "      <th>count</th>\n",
       "      <td>10000.000000</td>\n",
       "      <td>10000.000000</td>\n",
       "      <td>5052.000000</td>\n",
       "      <td>10000.000000</td>\n",
       "      <td>10000.000000</td>\n",
       "    </tr>\n",
       "    <tr>\n",
       "      <th>mean</th>\n",
       "      <td>252.369307</td>\n",
       "      <td>3.006100</td>\n",
       "      <td>1.453682</td>\n",
       "      <td>44.195000</td>\n",
       "      <td>24.992162</td>\n",
       "    </tr>\n",
       "    <tr>\n",
       "      <th>std</th>\n",
       "      <td>142.883865</td>\n",
       "      <td>1.406791</td>\n",
       "      <td>297.983208</td>\n",
       "      <td>15.311983</td>\n",
       "      <td>14.363396</td>\n",
       "    </tr>\n",
       "    <tr>\n",
       "      <th>min</th>\n",
       "      <td>5.010000</td>\n",
       "      <td>1.000000</td>\n",
       "      <td>-719.000000</td>\n",
       "      <td>18.000000</td>\n",
       "      <td>0.000000</td>\n",
       "    </tr>\n",
       "    <tr>\n",
       "      <th>25%</th>\n",
       "      <td>128.650000</td>\n",
       "      <td>2.000000</td>\n",
       "      <td>-214.000000</td>\n",
       "      <td>31.000000</td>\n",
       "      <td>12.752500</td>\n",
       "    </tr>\n",
       "    <tr>\n",
       "      <th>50%</th>\n",
       "      <td>250.445000</td>\n",
       "      <td>3.000000</td>\n",
       "      <td>1.000000</td>\n",
       "      <td>44.000000</td>\n",
       "      <td>24.840000</td>\n",
       "    </tr>\n",
       "    <tr>\n",
       "      <th>75%</th>\n",
       "      <td>377.837500</td>\n",
       "      <td>4.000000</td>\n",
       "      <td>218.000000</td>\n",
       "      <td>57.000000</td>\n",
       "      <td>37.605000</td>\n",
       "    </tr>\n",
       "    <tr>\n",
       "      <th>max</th>\n",
       "      <td>499.890000</td>\n",
       "      <td>5.000000</td>\n",
       "      <td>726.000000</td>\n",
       "      <td>70.000000</td>\n",
       "      <td>50.000000</td>\n",
       "    </tr>\n",
       "  </tbody>\n",
       "</table>\n",
       "</div>"
      ],
      "text/plain": [
       "       Product_Price  Order_Quantity  Days_to_Return      User_Age  \\\n",
       "count   10000.000000    10000.000000     5052.000000  10000.000000   \n",
       "mean      252.369307        3.006100        1.453682     44.195000   \n",
       "std       142.883865        1.406791      297.983208     15.311983   \n",
       "min         5.010000        1.000000     -719.000000     18.000000   \n",
       "25%       128.650000        2.000000     -214.000000     31.000000   \n",
       "50%       250.445000        3.000000        1.000000     44.000000   \n",
       "75%       377.837500        4.000000      218.000000     57.000000   \n",
       "max       499.890000        5.000000      726.000000     70.000000   \n",
       "\n",
       "       Discount_Applied  \n",
       "count      10000.000000  \n",
       "mean          24.992162  \n",
       "std           14.363396  \n",
       "min            0.000000  \n",
       "25%           12.752500  \n",
       "50%           24.840000  \n",
       "75%           37.605000  \n",
       "max           50.000000  "
      ]
     },
     "execution_count": 5,
     "metadata": {},
     "output_type": "execute_result"
    }
   ],
   "source": [
    "df_return.describe()"
   ]
  },
  {
   "cell_type": "code",
   "execution_count": 6,
   "id": "e7e841fe-0a1c-457e-988b-0dfd040df5f5",
   "metadata": {},
   "outputs": [
    {
     "data": {
      "text/plain": [
       "Order_ID               0\n",
       "Product_ID             0\n",
       "User_ID                0\n",
       "Order_Date             0\n",
       "Return_Date         4948\n",
       "Product_Category       0\n",
       "Product_Price          0\n",
       "Order_Quantity         0\n",
       "Return_Reason       4948\n",
       "Return_Status          0\n",
       "Days_to_Return      4948\n",
       "User_Age               0\n",
       "User_Gender            0\n",
       "User_Location          0\n",
       "Payment_Method         0\n",
       "Shipping_Method        0\n",
       "Discount_Applied       0\n",
       "dtype: int64"
      ]
     },
     "execution_count": 6,
     "metadata": {},
     "output_type": "execute_result"
    }
   ],
   "source": [
    "df_return.isna().sum()"
   ]
  },
  {
   "cell_type": "code",
   "execution_count": 7,
   "id": "7fb30d80-a909-414d-b637-2bab0764165d",
   "metadata": {},
   "outputs": [],
   "source": [
    "def get_return_quantity(row) :\n",
    "    return row[\"Order_Quantity\"] if pd.notna(row[\"Return_Date\"]) else np.nan\n",
    "\n",
    "df_return[\"Return_Quantity\"] = df_return.apply(get_return_quantity, axis = 1)"
   ]
  },
  {
   "cell_type": "code",
   "execution_count": 8,
   "id": "afa5be65-e808-408b-a8c9-6502fe96a699",
   "metadata": {},
   "outputs": [],
   "source": [
    "df_return[[\"Order_Date\", \"Return_Date\"]] = df_return[[\"Order_Date\", \"Return_Date\"]].apply(pd.to_datetime, errors = \"coerce\")\n",
    "df_return[[\"Return_Quantity\", \"Order_Quantity\", \"Days_to_Return\"]] = df_return[[\"Return_Quantity\", \"Order_Quantity\", \"Days_to_Return\"]].astype(\"Int64\")\n"
   ]
  },
  {
   "cell_type": "code",
   "execution_count": 9,
   "id": "054dd513-98a1-468a-b5cf-07189430ef6f",
   "metadata": {},
   "outputs": [
    {
     "name": "stdout",
     "output_type": "stream",
     "text": [
      "<class 'pandas.core.frame.DataFrame'>\n",
      "RangeIndex: 10000 entries, 0 to 9999\n",
      "Data columns (total 18 columns):\n",
      " #   Column            Non-Null Count  Dtype         \n",
      "---  ------            --------------  -----         \n",
      " 0   Order_ID          10000 non-null  object        \n",
      " 1   Product_ID        10000 non-null  object        \n",
      " 2   User_ID           10000 non-null  object        \n",
      " 3   Order_Date        10000 non-null  datetime64[ns]\n",
      " 4   Return_Date       5052 non-null   datetime64[ns]\n",
      " 5   Product_Category  10000 non-null  object        \n",
      " 6   Product_Price     10000 non-null  float64       \n",
      " 7   Order_Quantity    10000 non-null  Int64         \n",
      " 8   Return_Reason     5052 non-null   object        \n",
      " 9   Return_Status     10000 non-null  object        \n",
      " 10  Days_to_Return    5052 non-null   Int64         \n",
      " 11  User_Age          10000 non-null  int64         \n",
      " 12  User_Gender       10000 non-null  object        \n",
      " 13  User_Location     10000 non-null  object        \n",
      " 14  Payment_Method    10000 non-null  object        \n",
      " 15  Shipping_Method   10000 non-null  object        \n",
      " 16  Discount_Applied  10000 non-null  float64       \n",
      " 17  Return_Quantity   5052 non-null   Int64         \n",
      "dtypes: Int64(3), datetime64[ns](2), float64(2), int64(1), object(10)\n",
      "memory usage: 1.4+ MB\n"
     ]
    }
   ],
   "source": [
    "df_return.info()"
   ]
  },
  {
   "cell_type": "code",
   "execution_count": 10,
   "id": "38445b67-2fbf-4c02-870e-83844a6c819b",
   "metadata": {},
   "outputs": [
    {
     "data": {
      "image/png": "[encoded data removed]",
      "text/plain": [
       "<Figure size 1000x600 with 1 Axes>"
      ]
     },
     "metadata": {},
     "output_type": "display_data"
    }
   ],
   "source": [
    "plt.figure(figsize = (10,6))\n",
    "sns.lineplot(x = \"Product_Category\", y = \"Return_Quantity\", data = df_return, marker = \"o\")\n",
    "plt.xlabel(\"Product Quantity\", fontsize = 12)\n",
    "plt.ylabel(\"Return Quantity\", fontsize  = 12)\n",
    "plt.title(\"Return Rate by Category\")\n",
    "plt.xticks(rotation=45)\n",
    "plt.grid(True)\n",
    "plt.tight_layout()\n",
    "plt.show()\n"
   ]
  },
  {
   "cell_type": "code",
   "execution_count": 11,
   "id": "22bc50ea-9cbf-40a1-a720-d19401ff5f03",
   "metadata": {},
   "outputs": [
    {
     "name": "stderr",
     "output_type": "stream",
     "text": [
      "/var/folders/y3/c7jgmxjj369gfx84rl2ybgnr0000gp/T/ipykernel_1292/3139997693.py:2: FutureWarning: \n",
      "\n",
      "Passing `palette` without assigning `hue` is deprecated and will be removed in v0.14.0. Assign the `x` variable to `hue` and set `legend=False` for the same effect.\n",
      "\n",
      "  sns.barplot(data = df_return, x = \"Shipping_Method\", y = \"Return_Quantity\", palette = \"viridis\")\n"
     ]
    },
    {
     "data": {
      "image/png": "[encoded data removed]",
      "text/plain": [
       "<Figure size 1000x600 with 1 Axes>"
      ]
     },
     "metadata": {},
     "output_type": "display_data"
    }
   ],
   "source": [
    "plt.figure(figsize = (10,6))\n",
    "sns.barplot(data = df_return, x = \"Shipping_Method\", y = \"Return_Quantity\", palette = \"viridis\")\n",
    "plt.xlabel(\"User Location\", fontsize = 12)\n",
    "plt.ylabel(\"Return Quantity\", fontsize = 12)\n",
    "plt.title(\"Product Rate by Shipping Method\", fontsize = 16)\n",
    "plt.show()"
   ]
  },
  {
   "cell_type": "code",
   "execution_count": 12,
   "id": "97063064-a861-49e0-81b0-12d3948b16cd",
   "metadata": {},
   "outputs": [
    {
     "data": {
      "text/plain": [
       "100"
      ]
     },
     "execution_count": 12,
     "metadata": {},
     "output_type": "execute_result"
    }
   ],
   "source": [
    "df_return[\"User_Location\"].nunique()"
   ]
  },
  {
   "cell_type": "code",
   "execution_count": 13,
   "id": "7acc316c-e4b9-4d99-83c7-1b22df945cd0",
   "metadata": {},
   "outputs": [
    {
     "data": {
      "text/plain": [
       "User_Location\n",
       "City81    126\n",
       "City36    122\n",
       "City3     117\n",
       "City22    116\n",
       "City28    115\n",
       "         ... \n",
       "City9      86\n",
       "City95     83\n",
       "City56     82\n",
       "City5      82\n",
       "City6      76\n",
       "Name: count, Length: 100, dtype: int64"
      ]
     },
     "execution_count": 13,
     "metadata": {},
     "output_type": "execute_result"
    }
   ],
   "source": [
    "df_return[\"User_Location\"].value_counts()"
   ]
  },
  {
   "cell_type": "code",
   "execution_count": 15,
   "id": "5b443b89-5b67-453f-9d1a-97c9073592ce",
   "metadata": {},
   "outputs": [],
   "source": [
    "df_return['Return_Rate'] = df_return['Return_Quantity']/df_return['Order_Quantity']"
   ]
  },
  {
   "cell_type": "code",
   "execution_count": 16,
   "id": "959fb540-b1e4-46cd-9b17-27faa9e16f0d",
   "metadata": {},
   "outputs": [],
   "source": [
    "df_return['Is_Returned'] = df_return['Return_Date'].notna().astype(int)"
   ]
  },
  {
   "cell_type": "code",
   "execution_count": 18,
   "id": "0d3dcb4e-3ba9-40ef-8f77-31b9fadccecc",
   "metadata": {},
   "outputs": [],
   "source": [
    "df_return['Discount_Ratio'] = df_return['Discount_Applied']/df_return['Product_Price'] * df_return['Order_Quantity']"
   ]
  },
  {
   "cell_type": "code",
   "execution_count": 21,
   "id": "59e0394a-f971-45b7-ad44-1836bddcbb5c",
   "metadata": {},
   "outputs": [],
   "source": [
    "df_return['Product_Category'] = pd.cut(df_return['Product_Price'], bins = [0, 100, 300, 500, 1000], labels = ['Low', 'Medium', 'High', 'Premium'])\n"
   ]
  },
  {
   "cell_type": "code",
   "execution_count": 22,
   "id": "c755e8be-2bf1-408a-873f-9a04aa28ff93",
   "metadata": {},
   "outputs": [
    {
     "name": "stderr",
     "output_type": "stream",
     "text": [
      "/var/folders/y3/c7jgmxjj369gfx84rl2ybgnr0000gp/T/ipykernel_1292/3055005292.py:1: FutureWarning: The default of observed=False is deprecated and will be changed to True in a future version of pandas. Pass observed=False to retain current behavior or observed=True to adopt the future default and silence this warning.\n",
      "  category_return_rate = df_return.groupby('Product_Category')['Is_Returned'].mean()\n"
     ]
    }
   ],
   "source": [
    "category_return_rate = df_return.groupby('Product_Category')['Is_Returned'].mean()\n",
    "shipping_return_rate = df_return.groupby('Shipping_Method')['Is_Returned'].mean()"
   ]
  },
  {
   "cell_type": "code",
   "execution_count": 23,
   "id": "82d93f35-2385-4a3a-95f8-0d99534b81d4",
   "metadata": {},
   "outputs": [
    {
     "data": {
      "text/html": [
       "<div>\n",
       "<style scoped>\n",
       "    .dataframe tbody tr th:only-of-type {\n",
       "        vertical-align: middle;\n",
       "    }\n",
       "\n",
       "    .dataframe tbody tr th {\n",
       "        vertical-align: top;\n",
       "    }\n",
       "\n",
       "    .dataframe thead th {\n",
       "        text-align: right;\n",
       "    }\n",
       "</style>\n",
       "<table border=\"1\" class=\"dataframe\">\n",
       "  <thead>\n",
       "    <tr style=\"text-align: right;\">\n",
       "      <th></th>\n",
       "      <th>Order_ID</th>\n",
       "      <th>Product_ID</th>\n",
       "      <th>User_ID</th>\n",
       "      <th>Order_Date</th>\n",
       "      <th>Return_Date</th>\n",
       "      <th>Product_Category</th>\n",
       "      <th>Product_Price</th>\n",
       "      <th>Order_Quantity</th>\n",
       "      <th>Return_Reason</th>\n",
       "      <th>Return_Status</th>\n",
       "      <th>...</th>\n",
       "      <th>User_Age</th>\n",
       "      <th>User_Gender</th>\n",
       "      <th>User_Location</th>\n",
       "      <th>Payment_Method</th>\n",
       "      <th>Shipping_Method</th>\n",
       "      <th>Discount_Applied</th>\n",
       "      <th>Return_Quantity</th>\n",
       "      <th>Return_Rate</th>\n",
       "      <th>Is_Returned</th>\n",
       "      <th>Discount_Ratio</th>\n",
       "    </tr>\n",
       "  </thead>\n",
       "  <tbody>\n",
       "    <tr>\n",
       "      <th>0</th>\n",
       "      <td>ORD00000000</td>\n",
       "      <td>PROD00000000</td>\n",
       "      <td>USER00000000</td>\n",
       "      <td>2023-08-05</td>\n",
       "      <td>2024-08-26</td>\n",
       "      <td>High</td>\n",
       "      <td>411.59</td>\n",
       "      <td>3</td>\n",
       "      <td>Changed mind</td>\n",
       "      <td>Returned</td>\n",
       "      <td>...</td>\n",
       "      <td>58</td>\n",
       "      <td>Male</td>\n",
       "      <td>City54</td>\n",
       "      <td>Debit Card</td>\n",
       "      <td>Next-Day</td>\n",
       "      <td>45.27</td>\n",
       "      <td>3</td>\n",
       "      <td>1.0</td>\n",
       "      <td>1</td>\n",
       "      <td>0.329964</td>\n",
       "    </tr>\n",
       "    <tr>\n",
       "      <th>1</th>\n",
       "      <td>ORD00000001</td>\n",
       "      <td>PROD00000001</td>\n",
       "      <td>USER00000001</td>\n",
       "      <td>2023-10-09</td>\n",
       "      <td>2023-11-09</td>\n",
       "      <td>Medium</td>\n",
       "      <td>288.88</td>\n",
       "      <td>3</td>\n",
       "      <td>Wrong item</td>\n",
       "      <td>Returned</td>\n",
       "      <td>...</td>\n",
       "      <td>68</td>\n",
       "      <td>Female</td>\n",
       "      <td>City85</td>\n",
       "      <td>Credit Card</td>\n",
       "      <td>Express</td>\n",
       "      <td>47.79</td>\n",
       "      <td>3</td>\n",
       "      <td>1.0</td>\n",
       "      <td>1</td>\n",
       "      <td>0.496296</td>\n",
       "    </tr>\n",
       "    <tr>\n",
       "      <th>2</th>\n",
       "      <td>ORD00000002</td>\n",
       "      <td>PROD00000002</td>\n",
       "      <td>USER00000002</td>\n",
       "      <td>2023-05-06</td>\n",
       "      <td>NaT</td>\n",
       "      <td>High</td>\n",
       "      <td>390.03</td>\n",
       "      <td>5</td>\n",
       "      <td>NaN</td>\n",
       "      <td>Not Returned</td>\n",
       "      <td>...</td>\n",
       "      <td>22</td>\n",
       "      <td>Female</td>\n",
       "      <td>City30</td>\n",
       "      <td>Debit Card</td>\n",
       "      <td>Next-Day</td>\n",
       "      <td>26.64</td>\n",
       "      <td>&lt;NA&gt;</td>\n",
       "      <td>&lt;NA&gt;</td>\n",
       "      <td>0</td>\n",
       "      <td>0.341512</td>\n",
       "    </tr>\n",
       "    <tr>\n",
       "      <th>3</th>\n",
       "      <td>ORD00000003</td>\n",
       "      <td>PROD00000003</td>\n",
       "      <td>USER00000003</td>\n",
       "      <td>2024-08-29</td>\n",
       "      <td>NaT</td>\n",
       "      <td>High</td>\n",
       "      <td>401.09</td>\n",
       "      <td>3</td>\n",
       "      <td>NaN</td>\n",
       "      <td>Not Returned</td>\n",
       "      <td>...</td>\n",
       "      <td>40</td>\n",
       "      <td>Male</td>\n",
       "      <td>City95</td>\n",
       "      <td>PayPal</td>\n",
       "      <td>Next-Day</td>\n",
       "      <td>15.37</td>\n",
       "      <td>&lt;NA&gt;</td>\n",
       "      <td>&lt;NA&gt;</td>\n",
       "      <td>0</td>\n",
       "      <td>0.114962</td>\n",
       "    </tr>\n",
       "    <tr>\n",
       "      <th>4</th>\n",
       "      <td>ORD00000004</td>\n",
       "      <td>PROD00000004</td>\n",
       "      <td>USER00000004</td>\n",
       "      <td>2023-01-16</td>\n",
       "      <td>NaT</td>\n",
       "      <td>Medium</td>\n",
       "      <td>110.09</td>\n",
       "      <td>4</td>\n",
       "      <td>NaN</td>\n",
       "      <td>Not Returned</td>\n",
       "      <td>...</td>\n",
       "      <td>34</td>\n",
       "      <td>Female</td>\n",
       "      <td>City80</td>\n",
       "      <td>Gift Card</td>\n",
       "      <td>Standard</td>\n",
       "      <td>16.37</td>\n",
       "      <td>&lt;NA&gt;</td>\n",
       "      <td>&lt;NA&gt;</td>\n",
       "      <td>0</td>\n",
       "      <td>0.594786</td>\n",
       "    </tr>\n",
       "  </tbody>\n",
       "</table>\n",
       "<p>5 rows × 21 columns</p>\n",
       "</div>"
      ],
      "text/plain": [
       "      Order_ID    Product_ID       User_ID Order_Date Return_Date  \\\n",
       "0  ORD00000000  PROD00000000  USER00000000 2023-08-05  2024-08-26   \n",
       "1  ORD00000001  PROD00000001  USER00000001 2023-10-09  2023-11-09   \n",
       "2  ORD00000002  PROD00000002  USER00000002 2023-05-06         NaT   \n",
       "3  ORD00000003  PROD00000003  USER00000003 2024-08-29         NaT   \n",
       "4  ORD00000004  PROD00000004  USER00000004 2023-01-16         NaT   \n",
       "\n",
       "  Product_Category  Product_Price  Order_Quantity Return_Reason Return_Status  \\\n",
       "0             High         411.59               3  Changed mind      Returned   \n",
       "1           Medium         288.88               3    Wrong item      Returned   \n",
       "2             High         390.03               5           NaN  Not Returned   \n",
       "3             High         401.09               3           NaN  Not Returned   \n",
       "4           Medium         110.09               4           NaN  Not Returned   \n",
       "\n",
       "   ...  User_Age  User_Gender User_Location Payment_Method Shipping_Method  \\\n",
       "0  ...        58         Male        City54     Debit Card        Next-Day   \n",
       "1  ...        68       Female        City85    Credit Card         Express   \n",
       "2  ...        22       Female        City30     Debit Card        Next-Day   \n",
       "3  ...        40         Male        City95         PayPal        Next-Day   \n",
       "4  ...        34       Female        City80      Gift Card        Standard   \n",
       "\n",
       "  Discount_Applied  Return_Quantity  Return_Rate  Is_Returned  Discount_Ratio  \n",
       "0            45.27                3          1.0            1        0.329964  \n",
       "1            47.79                3          1.0            1        0.496296  \n",
       "2            26.64             <NA>         <NA>            0        0.341512  \n",
       "3            15.37             <NA>         <NA>            0        0.114962  \n",
       "4            16.37             <NA>         <NA>            0        0.594786  \n",
       "\n",
       "[5 rows x 21 columns]"
      ]
     },
     "execution_count": 23,
     "metadata": {},
     "output_type": "execute_result"
    }
   ],
   "source": [
    "df_return.head(5)"
   ]
  },
  {
   "cell_type": "code",
   "execution_count": 32,
   "id": "c1d8a2a3-657c-42a5-807d-82a8bfdd2f4a",
   "metadata": {},
   "outputs": [
    {
     "data": {
      "text/html": [
       "<a href='ecommerce_return_dump.sql' target='_blank'>ecommerce_return_dump.sql</a><br>"
      ],
      "text/plain": [
       "/Users/adlnzmnzr/Applications/anaconda3/project/intern/ecommerce_return_dump.sql"
      ]
     },
     "execution_count": 32,
     "metadata": {},
     "output_type": "execute_result"
    }
   ],
   "source": [
    "import sqlite3\n",
    "from IPython.display import FileLink\n",
    "\n",
    "sql_db = 'return.db'\n",
    "conn = sqlite3.connect(sql_path)\n",
    "\n",
    "df_return.to_sql('ecommerce_return', conn, if_exists = 'replace', index = False)\n",
    "\n",
    "conn = sqlite3.connect('/Users/adlnzmnzr/Downloads/return.db')\n",
    "\n",
    "sql_dump_path = 'ecommerce_return_dump.sql'\n",
    "with open(sql_dump_path, 'w') as f:\n",
    "    for line in conn.iterdump():\n",
    "        f.write(f'{line}\\n')\n",
    "\n",
    "conn.close()\n",
    "\n",
    "FileLink(sql_dump_path)"
   ]
  },
  {
   "cell_type": "code",
   "execution_count": 43,
   "id": "d99a93b4-a878-4d44-9110-d3b4d1bbaa10",
   "metadata": {},
   "outputs": [
    {
     "data": {
      "text/html": [
       "<a href=\"ecommerce_return.csv\" download> Click here to download people.csv</a>"
      ],
      "text/plain": [
       "<IPython.core.display.HTML object>"
      ]
     },
     "execution_count": 43,
     "metadata": {},
     "output_type": "execute_result"
    }
   ],
   "source": [
    "from IPython.display import HTML\n",
    "\n",
    "filename = 'ecommerce_return.csv'\n",
    "df_return.to_csv(filename, index=False)\n",
    "\n",
    "HTML(f'<a href=\"{filename}\" download> Click here to download people.csv</a>')"
   ]
  }
 ],
 "metadata": {
  "kernelspec": {
   "display_name": "Python [conda env:base] *",
   "language": "python",
   "name": "conda-base-py"
  },
  "language_info": {
   "codemirror_mode": {
    "name": "ipython",
    "version": 3
   },
   "file_extension": ".py",
   "mimetype": "text/x-python",
   "name": "python",
   "nbconvert_exporter": "python",
   "pygments_lexer": "ipython3",
   "version": "3.12.7"
  }
 },
 "nbformat": 4,
 "nbformat_minor": 5
}
